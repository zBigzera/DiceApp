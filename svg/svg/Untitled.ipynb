{
 "cells": [
  {
   "cell_type": "code",
   "execution_count": 1,
   "id": "de000cd3",
   "metadata": {},
   "outputs": [
    {
     "name": "stdout",
     "output_type": "stream",
     "text": [
      "Renomeado: day/d6_5_2.svg -> day/d6_5.svg\n",
      "Renomeado: day/d20_13_2.svg -> day/d20_13.svg\n",
      "Renomeado: day/d20_5_2.svg -> day/d20_5.svg\n",
      "Renomeado: day/d4_2_2.svg -> day/d4_2.svg\n",
      "Renomeado: day/d20_7_2.svg -> day/d20_7.svg\n",
      "Renomeado: day/d10_8_2.svg -> day/d10_8.svg\n",
      "Renomeado: day/d20_11_2.svg -> day/d20_11.svg\n",
      "Renomeado: day/d20_15_2.svg -> day/d20_15.svg\n",
      "Renomeado: day/d6_3_2.svg -> day/d6_3.svg\n",
      "Renomeado: day/d12_9_2.svg -> day/d12_9.svg\n",
      "Renomeado: day/d8_8_2.svg -> day/d8_8.svg\n",
      "Renomeado: day/d20_3_2.svg -> day/d20_3.svg\n",
      "Renomeado: day/d12_12_2.svg -> day/d12_12.svg\n",
      "Renomeado: day/d12_10_2.svg -> day/d12_10.svg\n",
      "Renomeado: day/d20_1_2.svg -> day/d20_1.svg\n",
      "Renomeado: day/d4_4_2.svg -> day/d4_4.svg\n",
      "Renomeado: day/d20_17_2.svg -> day/d20_17.svg\n",
      "Renomeado: day/d6_1_2.svg -> day/d6_1.svg\n",
      "Renomeado: day/d10_9_2.svg -> day/d10_9.svg\n",
      "Renomeado: day/d20_6_2.svg -> day/d20_6.svg\n",
      "Renomeado: day/d4_3_2.svg -> day/d4_3.svg\n",
      "Renomeado: day/d20_10_2.svg -> day/d20_10.svg\n",
      "Renomeado: day/d6_6_2.svg -> day/d6_6.svg\n",
      "Renomeado: day/d20_12_2.svg -> day/d20_12.svg\n",
      "Renomeado: day/d6_4_2.svg -> day/d6_4.svg\n",
      "Renomeado: day/d20_4_2.svg -> day/d20_4.svg\n",
      "Renomeado: day/d4_1_2.svg -> day/d4_1.svg\n",
      "Renomeado: day/d12_11_2.svg -> day/d12_11.svg\n",
      "Renomeado: day/d20_16_2.svg -> day/d20_16.svg\n",
      "Renomeado: day/d12_8_2.svg -> day/d12_8.svg\n",
      "Renomeado: day/d6_2_2.svg -> day/d6_2.svg\n",
      "Renomeado: day/d20_14_2.svg -> day/d20_14.svg\n",
      "Renomeado: day/d20_2_2.svg -> day/d20_2.svg\n",
      "Renomeado: day/d10_10_2.svg -> day/d10_10.svg\n",
      "Renomeado: day/d10_1_2.svg -> day/d10_1.svg\n",
      "Renomeado: day/d20_18_2.svg -> day/d20_18.svg\n",
      "Renomeado: day/d8_5_2.svg -> day/d8_5.svg\n",
      "Renomeado: day/d12_4_2.svg -> day/d12_4.svg\n",
      "Renomeado: day/d12_6_2.svg -> day/d12_6.svg\n",
      "Renomeado: day/d8_7_2.svg -> day/d8_7.svg\n",
      "Renomeado: day/d10_3_2.svg -> day/d10_3.svg\n",
      "Renomeado: day/icon_2.svg -> day/icon.svg\n",
      "Renomeado: day/d10_7_2.svg -> day/d10_7.svg\n",
      "Renomeado: day/d20_8_2.svg -> day/d20_8.svg\n",
      "Renomeado: day/d12_2_2.svg -> day/d12_2.svg\n",
      "Renomeado: day/d8_3_2.svg -> day/d8_3.svg\n",
      "Renomeado: day/d8_1_2.svg -> day/d8_1.svg\n",
      "Renomeado: day/d10_5_2.svg -> day/d10_5.svg\n",
      "Renomeado: day/d12_7_2.svg -> day/d12_7.svg\n",
      "Renomeado: day/d8_6_2.svg -> day/d8_6.svg\n",
      "Renomeado: day/d10_2_2.svg -> day/d10_2.svg\n",
      "Renomeado: day/d8_4_2.svg -> day/d8_4.svg\n",
      "Renomeado: day/d12_5_2.svg -> day/d12_5.svg\n",
      "Renomeado: day/d20_19_2.svg -> day/d20_19.svg\n",
      "Renomeado: day/d12_1_2.svg -> day/d12_1.svg\n",
      "Renomeado: day/d20_20_2.svg -> day/d20_20.svg\n",
      "Renomeado: day/d10_4_2.svg -> day/d10_4.svg\n",
      "Renomeado: day/d20_9_2.svg -> day/d20_9.svg\n",
      "Renomeado: day/d10_6_2.svg -> day/d10_6.svg\n",
      "Renomeado: day/d12_3_2.svg -> day/d12_3.svg\n",
      "Renomeado: day/d8_2_2.svg -> day/d8_2.svg\n"
     ]
    }
   ],
   "source": [
    "import os\n",
    "\n",
    "def replace_part_of_filenames(folder_path, old_part, new_part):\n",
    "    for filename in os.listdir(folder_path):\n",
    "        if old_part in filename:\n",
    "            old_file_path = os.path.join(folder_path, filename)\n",
    "            new_filename = filename.replace(old_part, new_part)\n",
    "            new_file_path = os.path.join(folder_path, new_filename)\n",
    "            os.rename(old_file_path, new_file_path)\n",
    "            print(f\"Renomeado: {old_file_path} -> {new_file_path}\")\n",
    "\n",
    "# Exemplo de uso\n",
    "folder_path = \"day\"  # Substitua pelo caminho da pasta desejada\n",
    "old_part = \"_2.\"  # Substitua pela parte antiga que deseja substituir\n",
    "new_part = \".\"  # Substitua pela parte nova que deseja utilizar\n",
    "\n",
    "replace_part_of_filenames(folder_path, old_part, new_part)"
   ]
  },
  {
   "cell_type": "code",
   "execution_count": null,
   "id": "183db2e1",
   "metadata": {},
   "outputs": [],
   "source": []
  }
 ],
 "metadata": {
  "kernelspec": {
   "display_name": "Python 3 (ipykernel)",
   "language": "python",
   "name": "python3"
  },
  "language_info": {
   "codemirror_mode": {
    "name": "ipython",
    "version": 3
   },
   "file_extension": ".py",
   "mimetype": "text/x-python",
   "name": "python",
   "nbconvert_exporter": "python",
   "pygments_lexer": "ipython3",
   "version": "3.9.13"
  }
 },
 "nbformat": 4,
 "nbformat_minor": 5
}
